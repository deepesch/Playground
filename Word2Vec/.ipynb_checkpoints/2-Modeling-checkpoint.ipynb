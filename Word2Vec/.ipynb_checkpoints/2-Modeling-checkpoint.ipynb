{
 "cells": [
  {
   "cell_type": "markdown",
   "metadata": {},
   "source": [
    "# Modeling "
   ]
  },
  {
   "cell_type": "code",
   "execution_count": 1,
   "metadata": {
    "collapsed": true
   },
   "outputs": [],
   "source": [
    "import pandas as pd\n",
    "import numpy as np"
   ]
  },
  {
   "cell_type": "code",
   "execution_count": 2,
   "metadata": {
    "collapsed": false
   },
   "outputs": [],
   "source": [
    "df = pd.read_csv('trainDataFeatures.tsv', sep='\\t', index_col=0)"
   ]
  },
  {
   "cell_type": "code",
   "execution_count": 4,
   "metadata": {
    "collapsed": false
   },
   "outputs": [
    {
     "data": {
      "text/html": [
       "<div>\n",
       "<table border=\"1\" class=\"dataframe\">\n",
       "  <thead>\n",
       "    <tr style=\"text-align: right;\">\n",
       "      <th></th>\n",
       "      <th>id</th>\n",
       "      <th>sentiment</th>\n",
       "      <th>review</th>\n",
       "      <th>review_length</th>\n",
       "      <th>awesome</th>\n",
       "      <th>good</th>\n",
       "      <th>amazing</th>\n",
       "      <th>interesting</th>\n",
       "      <th>terrible</th>\n",
       "      <th>bad</th>\n",
       "      <th>awful</th>\n",
       "      <th>boring</th>\n",
       "    </tr>\n",
       "  </thead>\n",
       "  <tbody>\n",
       "    <tr>\n",
       "      <th>0</th>\n",
       "      <td>5814_8</td>\n",
       "      <td>1</td>\n",
       "      <td>With all this stuff going down at the moment w...</td>\n",
       "      <td>2302</td>\n",
       "      <td>0</td>\n",
       "      <td>0</td>\n",
       "      <td>0</td>\n",
       "      <td>0</td>\n",
       "      <td>0</td>\n",
       "      <td>3</td>\n",
       "      <td>0</td>\n",
       "      <td>1</td>\n",
       "    </tr>\n",
       "    <tr>\n",
       "      <th>1</th>\n",
       "      <td>2381_9</td>\n",
       "      <td>1</td>\n",
       "      <td>\\The Classic War of the Worlds\\\" by Timothy Hi...</td>\n",
       "      <td>946</td>\n",
       "      <td>0</td>\n",
       "      <td>0</td>\n",
       "      <td>0</td>\n",
       "      <td>0</td>\n",
       "      <td>0</td>\n",
       "      <td>0</td>\n",
       "      <td>0</td>\n",
       "      <td>0</td>\n",
       "    </tr>\n",
       "    <tr>\n",
       "      <th>2</th>\n",
       "      <td>7759_3</td>\n",
       "      <td>0</td>\n",
       "      <td>The film starts with a manager (Nicholas Bell)...</td>\n",
       "      <td>2455</td>\n",
       "      <td>0</td>\n",
       "      <td>0</td>\n",
       "      <td>0</td>\n",
       "      <td>0</td>\n",
       "      <td>0</td>\n",
       "      <td>0</td>\n",
       "      <td>0</td>\n",
       "      <td>1</td>\n",
       "    </tr>\n",
       "    <tr>\n",
       "      <th>3</th>\n",
       "      <td>3630_4</td>\n",
       "      <td>0</td>\n",
       "      <td>It must be assumed that those who praised this...</td>\n",
       "      <td>2245</td>\n",
       "      <td>0</td>\n",
       "      <td>1</td>\n",
       "      <td>0</td>\n",
       "      <td>0</td>\n",
       "      <td>0</td>\n",
       "      <td>0</td>\n",
       "      <td>0</td>\n",
       "      <td>0</td>\n",
       "    </tr>\n",
       "    <tr>\n",
       "      <th>4</th>\n",
       "      <td>9495_8</td>\n",
       "      <td>1</td>\n",
       "      <td>Superbly trashy and wondrously unpretentious 8...</td>\n",
       "      <td>2233</td>\n",
       "      <td>0</td>\n",
       "      <td>0</td>\n",
       "      <td>0</td>\n",
       "      <td>0</td>\n",
       "      <td>0</td>\n",
       "      <td>0</td>\n",
       "      <td>0</td>\n",
       "      <td>0</td>\n",
       "    </tr>\n",
       "  </tbody>\n",
       "</table>\n",
       "</div>"
      ],
      "text/plain": [
       "       id  sentiment                                             review  \\\n",
       "0  5814_8          1  With all this stuff going down at the moment w...   \n",
       "1  2381_9          1  \\The Classic War of the Worlds\\\" by Timothy Hi...   \n",
       "2  7759_3          0  The film starts with a manager (Nicholas Bell)...   \n",
       "3  3630_4          0  It must be assumed that those who praised this...   \n",
       "4  9495_8          1  Superbly trashy and wondrously unpretentious 8...   \n",
       "\n",
       "   review_length  awesome  good  amazing  interesting  terrible  bad  awful  \\\n",
       "0           2302        0     0        0            0         0    3      0   \n",
       "1            946        0     0        0            0         0    0      0   \n",
       "2           2455        0     0        0            0         0    0      0   \n",
       "3           2245        0     1        0            0         0    0      0   \n",
       "4           2233        0     0        0            0         0    0      0   \n",
       "\n",
       "   boring  \n",
       "0       1  \n",
       "1       0  \n",
       "2       1  \n",
       "3       0  \n",
       "4       0  "
      ]
     },
     "execution_count": 4,
     "metadata": {},
     "output_type": "execute_result"
    }
   ],
   "source": [
    "df.head()"
   ]
  },
  {
   "cell_type": "code",
   "execution_count": 5,
   "metadata": {
    "collapsed": false
   },
   "outputs": [],
   "source": [
    "columns = df.columns[3:]"
   ]
  },
  {
   "cell_type": "code",
   "execution_count": 6,
   "metadata": {
    "collapsed": false
   },
   "outputs": [
    {
     "data": {
      "text/plain": [
       "Index([u'review_length', u'awesome', u'good', u'amazing', u'interesting',\n",
       "       u'terrible', u'bad', u'awful', u'boring'],\n",
       "      dtype='object')"
      ]
     },
     "execution_count": 6,
     "metadata": {},
     "output_type": "execute_result"
    }
   ],
   "source": [
    "columns"
   ]
  },
  {
   "cell_type": "code",
   "execution_count": 6,
   "metadata": {
    "collapsed": true
   },
   "outputs": [],
   "source": [
    "X = np.asarray(df[columns])"
   ]
  },
  {
   "cell_type": "code",
   "execution_count": 7,
   "metadata": {
    "collapsed": false
   },
   "outputs": [
    {
     "data": {
      "text/plain": [
       "array([[2302,    0,    0, ...,    3,    0,    1],\n",
       "       [ 946,    0,    0, ...,    0,    0,    0],\n",
       "       [2455,    0,    0, ...,    0,    0,    1],\n",
       "       ..., \n",
       "       [ 641,    0,    0, ...,    0,    0,    0],\n",
       "       [1145,    0,    0, ...,    0,    0,    0],\n",
       "       [ 942,    0,    0, ...,    0,    0,    0]])"
      ]
     },
     "execution_count": 7,
     "metadata": {},
     "output_type": "execute_result"
    }
   ],
   "source": [
    "X"
   ]
  },
  {
   "cell_type": "code",
   "execution_count": 8,
   "metadata": {
    "collapsed": true
   },
   "outputs": [],
   "source": [
    "y = np.asarray(df.sentiment.transpose())"
   ]
  },
  {
   "cell_type": "code",
   "execution_count": 9,
   "metadata": {
    "collapsed": false
   },
   "outputs": [
    {
     "data": {
      "text/plain": [
       "array([1, 1, 0, ..., 0, 0, 1])"
      ]
     },
     "execution_count": 9,
     "metadata": {},
     "output_type": "execute_result"
    }
   ],
   "source": [
    "y"
   ]
  },
  {
   "cell_type": "code",
   "execution_count": 10,
   "metadata": {
    "collapsed": true
   },
   "outputs": [],
   "source": [
    "from sklearn.naive_bayes import MultinomialNB"
   ]
  },
  {
   "cell_type": "code",
   "execution_count": 11,
   "metadata": {
    "collapsed": true
   },
   "outputs": [],
   "source": [
    "nb = MultinomialNB()"
   ]
  },
  {
   "cell_type": "code",
   "execution_count": 12,
   "metadata": {
    "collapsed": false
   },
   "outputs": [
    {
     "data": {
      "text/plain": [
       "MultinomialNB(alpha=1.0, class_prior=None, fit_prior=True)"
      ]
     },
     "execution_count": 12,
     "metadata": {},
     "output_type": "execute_result"
    }
   ],
   "source": [
    "nb.fit(X, y)"
   ]
  },
  {
   "cell_type": "code",
   "execution_count": 13,
   "metadata": {
    "collapsed": false
   },
   "outputs": [
    {
     "data": {
      "text/plain": [
       "array([0, 1, 0, ..., 1, 1, 1])"
      ]
     },
     "execution_count": 13,
     "metadata": {},
     "output_type": "execute_result"
    }
   ],
   "source": [
    "nb.predict(np.asarray(df[columns]))"
   ]
  },
  {
   "cell_type": "code",
   "execution_count": 14,
   "metadata": {
    "collapsed": false
   },
   "outputs": [
    {
     "data": {
      "text/plain": [
       "0.67023999999999995"
      ]
     },
     "execution_count": 14,
     "metadata": {},
     "output_type": "execute_result"
    }
   ],
   "source": [
    "np.mean(nb.predict(np.asarray(df[columns])) == df.sentiment)"
   ]
  },
  {
   "cell_type": "markdown",
   "metadata": {},
   "source": [
    "## Make Kaggle submission with test data"
   ]
  },
  {
   "cell_type": "code",
   "execution_count": 15,
   "metadata": {
    "collapsed": true
   },
   "outputs": [],
   "source": [
    "test_data = pd.read_csv('testData.tsv', sep='\\t')"
   ]
  },
  {
   "cell_type": "code",
   "execution_count": 16,
   "metadata": {
    "collapsed": false,
    "scrolled": true
   },
   "outputs": [
    {
     "data": {
      "text/html": [
       "<div>\n",
       "<table border=\"1\" class=\"dataframe\">\n",
       "  <thead>\n",
       "    <tr style=\"text-align: right;\">\n",
       "      <th></th>\n",
       "      <th>id</th>\n",
       "      <th>review</th>\n",
       "    </tr>\n",
       "  </thead>\n",
       "  <tbody>\n",
       "    <tr>\n",
       "      <th>0</th>\n",
       "      <td>12311_10</td>\n",
       "      <td>Naturally in a film who's main themes are of m...</td>\n",
       "    </tr>\n",
       "    <tr>\n",
       "      <th>1</th>\n",
       "      <td>8348_2</td>\n",
       "      <td>This movie is a disaster within a disaster fil...</td>\n",
       "    </tr>\n",
       "    <tr>\n",
       "      <th>2</th>\n",
       "      <td>5828_4</td>\n",
       "      <td>All in all, this is a movie for kids. We saw i...</td>\n",
       "    </tr>\n",
       "    <tr>\n",
       "      <th>3</th>\n",
       "      <td>7186_2</td>\n",
       "      <td>Afraid of the Dark left me with the impression...</td>\n",
       "    </tr>\n",
       "    <tr>\n",
       "      <th>4</th>\n",
       "      <td>12128_7</td>\n",
       "      <td>A very accurate depiction of small time mob li...</td>\n",
       "    </tr>\n",
       "    <tr>\n",
       "      <th>5</th>\n",
       "      <td>2913_8</td>\n",
       "      <td>...as valuable as King Tut's tomb! (OK, maybe ...</td>\n",
       "    </tr>\n",
       "    <tr>\n",
       "      <th>6</th>\n",
       "      <td>4396_1</td>\n",
       "      <td>This has to be one of the biggest misfires eve...</td>\n",
       "    </tr>\n",
       "    <tr>\n",
       "      <th>7</th>\n",
       "      <td>395_2</td>\n",
       "      <td>This is one of those movies I watched, and won...</td>\n",
       "    </tr>\n",
       "    <tr>\n",
       "      <th>8</th>\n",
       "      <td>10616_1</td>\n",
       "      <td>The worst movie i've seen in years (and i've s...</td>\n",
       "    </tr>\n",
       "    <tr>\n",
       "      <th>9</th>\n",
       "      <td>9074_9</td>\n",
       "      <td>Five medical students (Kevin Bacon, David Labr...</td>\n",
       "    </tr>\n",
       "    <tr>\n",
       "      <th>10</th>\n",
       "      <td>9252_3</td>\n",
       "      <td>'The Mill on the Floss' was one of the lesser ...</td>\n",
       "    </tr>\n",
       "    <tr>\n",
       "      <th>11</th>\n",
       "      <td>9896_9</td>\n",
       "      <td>I just saw this film at the phoenix film festi...</td>\n",
       "    </tr>\n",
       "    <tr>\n",
       "      <th>12</th>\n",
       "      <td>574_4</td>\n",
       "      <td>\\The Love Letter\\\" is one of those movies that...</td>\n",
       "    </tr>\n",
       "    <tr>\n",
       "      <th>13</th>\n",
       "      <td>11182_8</td>\n",
       "      <td>Another fantastic offering from the Monkey Isl...</td>\n",
       "    </tr>\n",
       "    <tr>\n",
       "      <th>14</th>\n",
       "      <td>11656_4</td>\n",
       "      <td>This was included on the disk \\Shorts: Volume ...</td>\n",
       "    </tr>\n",
       "    <tr>\n",
       "      <th>15</th>\n",
       "      <td>2322_4</td>\n",
       "      <td>I'm not really much of an Abbott &amp; Costello fa...</td>\n",
       "    </tr>\n",
       "    <tr>\n",
       "      <th>16</th>\n",
       "      <td>8703_1</td>\n",
       "      <td>This movie was dreadful. Biblically very inacc...</td>\n",
       "    </tr>\n",
       "    <tr>\n",
       "      <th>17</th>\n",
       "      <td>7483_1</td>\n",
       "      <td>I don't think I've ever gave something a 1/10 ...</td>\n",
       "    </tr>\n",
       "    <tr>\n",
       "      <th>18</th>\n",
       "      <td>6007_10</td>\n",
       "      <td>Excellent story-telling and cinematography. Po...</td>\n",
       "    </tr>\n",
       "    <tr>\n",
       "      <th>19</th>\n",
       "      <td>12424_4</td>\n",
       "      <td>I completely forgot that I'd seen this within ...</td>\n",
       "    </tr>\n",
       "    <tr>\n",
       "      <th>20</th>\n",
       "      <td>4672_1</td>\n",
       "      <td>I like action movies. I have a softspot for \\B...</td>\n",
       "    </tr>\n",
       "    <tr>\n",
       "      <th>21</th>\n",
       "      <td>10841_3</td>\n",
       "      <td>This is one of the worst Sandra Bullock movie ...</td>\n",
       "    </tr>\n",
       "    <tr>\n",
       "      <th>22</th>\n",
       "      <td>8954_7</td>\n",
       "      <td>Watched this flick on Saturday afternoon cable...</td>\n",
       "    </tr>\n",
       "    <tr>\n",
       "      <th>23</th>\n",
       "      <td>7392_1</td>\n",
       "      <td>I went to see \\TKIA\\\" with high expectations, ...</td>\n",
       "    </tr>\n",
       "    <tr>\n",
       "      <th>24</th>\n",
       "      <td>10288_8</td>\n",
       "      <td>All credit to writer/director Gilles Mimouni w...</td>\n",
       "    </tr>\n",
       "    <tr>\n",
       "      <th>25</th>\n",
       "      <td>5343_4</td>\n",
       "      <td>As a writing teacher, there are two ending I n...</td>\n",
       "    </tr>\n",
       "    <tr>\n",
       "      <th>26</th>\n",
       "      <td>4950_1</td>\n",
       "      <td>I don't know why this has gotten any decent re...</td>\n",
       "    </tr>\n",
       "    <tr>\n",
       "      <th>27</th>\n",
       "      <td>9257_4</td>\n",
       "      <td>This film was released in the UK under the nam...</td>\n",
       "    </tr>\n",
       "    <tr>\n",
       "      <th>28</th>\n",
       "      <td>8689_3</td>\n",
       "      <td>Uncle Fred Olen Ray once again gives us a litt...</td>\n",
       "    </tr>\n",
       "    <tr>\n",
       "      <th>29</th>\n",
       "      <td>4480_2</td>\n",
       "      <td>OK, it's watchable if you are sick in bed or h...</td>\n",
       "    </tr>\n",
       "    <tr>\n",
       "      <th>...</th>\n",
       "      <td>...</td>\n",
       "      <td>...</td>\n",
       "    </tr>\n",
       "    <tr>\n",
       "      <th>24970</th>\n",
       "      <td>6857_10</td>\n",
       "      <td>With \\Anatomy\\\" the german film producers have...</td>\n",
       "    </tr>\n",
       "    <tr>\n",
       "      <th>24971</th>\n",
       "      <td>11091_8</td>\n",
       "      <td>This movie is one of my all-time favorites. I ...</td>\n",
       "    </tr>\n",
       "    <tr>\n",
       "      <th>24972</th>\n",
       "      <td>4167_2</td>\n",
       "      <td>I found Code 46 very disappointing. I thought ...</td>\n",
       "    </tr>\n",
       "    <tr>\n",
       "      <th>24973</th>\n",
       "      <td>679_4</td>\n",
       "      <td>Tamara Anderson and her family are moving once...</td>\n",
       "    </tr>\n",
       "    <tr>\n",
       "      <th>24974</th>\n",
       "      <td>10147_1</td>\n",
       "      <td>Now I've seen it all. Just when I thought it c...</td>\n",
       "    </tr>\n",
       "    <tr>\n",
       "      <th>24975</th>\n",
       "      <td>6875_1</td>\n",
       "      <td>In this movie everything possible was wrong an...</td>\n",
       "    </tr>\n",
       "    <tr>\n",
       "      <th>24976</th>\n",
       "      <td>923_10</td>\n",
       "      <td>Well every scene so perfectly presented. Never...</td>\n",
       "    </tr>\n",
       "    <tr>\n",
       "      <th>24977</th>\n",
       "      <td>6200_8</td>\n",
       "      <td>Sleeper Cell is what 24 should have been. 24 i...</td>\n",
       "    </tr>\n",
       "    <tr>\n",
       "      <th>24978</th>\n",
       "      <td>7208_8</td>\n",
       "      <td>Not for everyone, but I really like it. Nice e...</td>\n",
       "    </tr>\n",
       "    <tr>\n",
       "      <th>24979</th>\n",
       "      <td>5363_8</td>\n",
       "      <td>Set just before the Second World War, this is ...</td>\n",
       "    </tr>\n",
       "    <tr>\n",
       "      <th>24980</th>\n",
       "      <td>4067_8</td>\n",
       "      <td>Contains Spoiler The movie is a good action/co...</td>\n",
       "    </tr>\n",
       "    <tr>\n",
       "      <th>24981</th>\n",
       "      <td>1773_7</td>\n",
       "      <td>This is one of several period sea-faring yarns...</td>\n",
       "    </tr>\n",
       "    <tr>\n",
       "      <th>24982</th>\n",
       "      <td>1498_10</td>\n",
       "      <td>Hearkening back to those \\Good Old Days\\\" of 1...</td>\n",
       "    </tr>\n",
       "    <tr>\n",
       "      <th>24983</th>\n",
       "      <td>10497_10</td>\n",
       "      <td>I thought this to be a pretty good example of ...</td>\n",
       "    </tr>\n",
       "    <tr>\n",
       "      <th>24984</th>\n",
       "      <td>3444_10</td>\n",
       "      <td>Seeing this film, or rather set of films, in m...</td>\n",
       "    </tr>\n",
       "    <tr>\n",
       "      <th>24985</th>\n",
       "      <td>588_2</td>\n",
       "      <td>I didn't like this movie for many reasons - VE...</td>\n",
       "    </tr>\n",
       "    <tr>\n",
       "      <th>24986</th>\n",
       "      <td>9678_9</td>\n",
       "      <td>I absolutely love this show!!!!!!!, Its basica...</td>\n",
       "    </tr>\n",
       "    <tr>\n",
       "      <th>24987</th>\n",
       "      <td>1983_9</td>\n",
       "      <td>eXistenZ combines director David Cronenberg's ...</td>\n",
       "    </tr>\n",
       "    <tr>\n",
       "      <th>24988</th>\n",
       "      <td>5012_3</td>\n",
       "      <td>this movie is allegedly a comedy.so where did ...</td>\n",
       "    </tr>\n",
       "    <tr>\n",
       "      <th>24989</th>\n",
       "      <td>12240_2</td>\n",
       "      <td>The Comebacks is a spoof on inspirational spor...</td>\n",
       "    </tr>\n",
       "    <tr>\n",
       "      <th>24990</th>\n",
       "      <td>5071_2</td>\n",
       "      <td>I'd love to write a little summary of this mov...</td>\n",
       "    </tr>\n",
       "    <tr>\n",
       "      <th>24991</th>\n",
       "      <td>5078_2</td>\n",
       "      <td>Obvious tailored vehicle for Ryan Philippe. It...</td>\n",
       "    </tr>\n",
       "    <tr>\n",
       "      <th>24992</th>\n",
       "      <td>10069_3</td>\n",
       "      <td>&lt;br /&gt;&lt;br /&gt;JURASSIC PARK III *___ Adventure &lt;...</td>\n",
       "    </tr>\n",
       "    <tr>\n",
       "      <th>24993</th>\n",
       "      <td>7407_8</td>\n",
       "      <td>If you're even mildly interested in the War be...</td>\n",
       "    </tr>\n",
       "    <tr>\n",
       "      <th>24994</th>\n",
       "      <td>7207_1</td>\n",
       "      <td>It used to be that video distributors like Sub...</td>\n",
       "    </tr>\n",
       "    <tr>\n",
       "      <th>24995</th>\n",
       "      <td>2155_10</td>\n",
       "      <td>Sony Pictures Classics, I'm looking at you! So...</td>\n",
       "    </tr>\n",
       "    <tr>\n",
       "      <th>24996</th>\n",
       "      <td>59_10</td>\n",
       "      <td>I always felt that Ms. Merkerson had never got...</td>\n",
       "    </tr>\n",
       "    <tr>\n",
       "      <th>24997</th>\n",
       "      <td>2531_1</td>\n",
       "      <td>I was so disappointed in this movie. I am very...</td>\n",
       "    </tr>\n",
       "    <tr>\n",
       "      <th>24998</th>\n",
       "      <td>7772_8</td>\n",
       "      <td>From the opening sequence, filled with black a...</td>\n",
       "    </tr>\n",
       "    <tr>\n",
       "      <th>24999</th>\n",
       "      <td>11465_10</td>\n",
       "      <td>This is a great horror film for people who don...</td>\n",
       "    </tr>\n",
       "  </tbody>\n",
       "</table>\n",
       "<p>25000 rows × 2 columns</p>\n",
       "</div>"
      ],
      "text/plain": [
       "             id                                             review\n",
       "0      12311_10  Naturally in a film who's main themes are of m...\n",
       "1        8348_2  This movie is a disaster within a disaster fil...\n",
       "2        5828_4  All in all, this is a movie for kids. We saw i...\n",
       "3        7186_2  Afraid of the Dark left me with the impression...\n",
       "4       12128_7  A very accurate depiction of small time mob li...\n",
       "5        2913_8  ...as valuable as King Tut's tomb! (OK, maybe ...\n",
       "6        4396_1  This has to be one of the biggest misfires eve...\n",
       "7         395_2  This is one of those movies I watched, and won...\n",
       "8       10616_1  The worst movie i've seen in years (and i've s...\n",
       "9        9074_9  Five medical students (Kevin Bacon, David Labr...\n",
       "10       9252_3  'The Mill on the Floss' was one of the lesser ...\n",
       "11       9896_9  I just saw this film at the phoenix film festi...\n",
       "12        574_4  \\The Love Letter\\\" is one of those movies that...\n",
       "13      11182_8  Another fantastic offering from the Monkey Isl...\n",
       "14      11656_4  This was included on the disk \\Shorts: Volume ...\n",
       "15       2322_4  I'm not really much of an Abbott & Costello fa...\n",
       "16       8703_1  This movie was dreadful. Biblically very inacc...\n",
       "17       7483_1  I don't think I've ever gave something a 1/10 ...\n",
       "18      6007_10  Excellent story-telling and cinematography. Po...\n",
       "19      12424_4  I completely forgot that I'd seen this within ...\n",
       "20       4672_1  I like action movies. I have a softspot for \\B...\n",
       "21      10841_3  This is one of the worst Sandra Bullock movie ...\n",
       "22       8954_7  Watched this flick on Saturday afternoon cable...\n",
       "23       7392_1  I went to see \\TKIA\\\" with high expectations, ...\n",
       "24      10288_8  All credit to writer/director Gilles Mimouni w...\n",
       "25       5343_4  As a writing teacher, there are two ending I n...\n",
       "26       4950_1  I don't know why this has gotten any decent re...\n",
       "27       9257_4  This film was released in the UK under the nam...\n",
       "28       8689_3  Uncle Fred Olen Ray once again gives us a litt...\n",
       "29       4480_2  OK, it's watchable if you are sick in bed or h...\n",
       "...         ...                                                ...\n",
       "24970   6857_10  With \\Anatomy\\\" the german film producers have...\n",
       "24971   11091_8  This movie is one of my all-time favorites. I ...\n",
       "24972    4167_2  I found Code 46 very disappointing. I thought ...\n",
       "24973     679_4  Tamara Anderson and her family are moving once...\n",
       "24974   10147_1  Now I've seen it all. Just when I thought it c...\n",
       "24975    6875_1  In this movie everything possible was wrong an...\n",
       "24976    923_10  Well every scene so perfectly presented. Never...\n",
       "24977    6200_8  Sleeper Cell is what 24 should have been. 24 i...\n",
       "24978    7208_8  Not for everyone, but I really like it. Nice e...\n",
       "24979    5363_8  Set just before the Second World War, this is ...\n",
       "24980    4067_8  Contains Spoiler The movie is a good action/co...\n",
       "24981    1773_7  This is one of several period sea-faring yarns...\n",
       "24982   1498_10  Hearkening back to those \\Good Old Days\\\" of 1...\n",
       "24983  10497_10  I thought this to be a pretty good example of ...\n",
       "24984   3444_10  Seeing this film, or rather set of films, in m...\n",
       "24985     588_2  I didn't like this movie for many reasons - VE...\n",
       "24986    9678_9  I absolutely love this show!!!!!!!, Its basica...\n",
       "24987    1983_9  eXistenZ combines director David Cronenberg's ...\n",
       "24988    5012_3  this movie is allegedly a comedy.so where did ...\n",
       "24989   12240_2  The Comebacks is a spoof on inspirational spor...\n",
       "24990    5071_2  I'd love to write a little summary of this mov...\n",
       "24991    5078_2  Obvious tailored vehicle for Ryan Philippe. It...\n",
       "24992   10069_3  <br /><br />JURASSIC PARK III *___ Adventure <...\n",
       "24993    7407_8  If you're even mildly interested in the War be...\n",
       "24994    7207_1  It used to be that video distributors like Sub...\n",
       "24995   2155_10  Sony Pictures Classics, I'm looking at you! So...\n",
       "24996     59_10  I always felt that Ms. Merkerson had never got...\n",
       "24997    2531_1  I was so disappointed in this movie. I am very...\n",
       "24998    7772_8  From the opening sequence, filled with black a...\n",
       "24999  11465_10  This is a great horror film for people who don...\n",
       "\n",
       "[25000 rows x 2 columns]"
      ]
     },
     "execution_count": 16,
     "metadata": {},
     "output_type": "execute_result"
    }
   ],
   "source": [
    "test_data"
   ]
  },
  {
   "cell_type": "code",
   "execution_count": 17,
   "metadata": {
    "collapsed": false
   },
   "outputs": [],
   "source": [
    "test_data['review_length'] = test_data.review.apply(len)"
   ]
  },
  {
   "cell_type": "code",
   "execution_count": 18,
   "metadata": {
    "collapsed": false
   },
   "outputs": [],
   "source": [
    "# Do the same feature extraction with the test data\n",
    "\n",
    "from sklearn.feature_extraction.text import CountVectorizer\n",
    "vocab_expand = ['awesome', 'good', 'amazing', 'interesting', 'terrible', 'bad', 'awful','boring']\n",
    "expand_vectorizer = CountVectorizer(vocabulary=vocab_expand)\n",
    "bow_expand = expand_vectorizer.fit_transform(test_data.review).todense()\n",
    "words_expand = list(expand_vectorizer.vocabulary_.keys())\n",
    "bow_expand_df = pd.DataFrame(bow_expand, index=test_data.index, columns = words_expand)\n",
    "test_data_expand = test_data.join(bow_expand_df)\n",
    "test_data_expand.to_csv('testDataFeatures.tsv', sep='\\t')"
   ]
  },
  {
   "cell_type": "code",
   "execution_count": 19,
   "metadata": {
    "collapsed": false
   },
   "outputs": [],
   "source": [
    "predictions = nb.predict(np.asarray(test_data_expand[columns]))"
   ]
  },
  {
   "cell_type": "code",
   "execution_count": 20,
   "metadata": {
    "collapsed": false
   },
   "outputs": [],
   "source": [
    "submission = pd.DataFrame({\"id\": test_data.id, \"sentiment\": predictions})"
   ]
  },
  {
   "cell_type": "code",
   "execution_count": 21,
   "metadata": {
    "collapsed": false,
    "scrolled": true
   },
   "outputs": [],
   "source": [
    "submission.to_csv('submission_kaggle.tsv', sep='\\t')"
   ]
  },
  {
   "cell_type": "code",
   "execution_count": 22,
   "metadata": {
    "collapsed": false
   },
   "outputs": [
    {
     "name": "stdout",
     "output_type": "stream",
     "text": [
      "0-Exploration.ipynb        labeledTrainData.tsv\r\n",
      "1-Feature_extraction.ipynb submission_kaggle.tsv\r\n",
      "2-Modeling.ipynb           testData.tsv\r\n",
      "3-Validation.ipynb         testDataFeatures.tsv\r\n",
      "4-Ensemble.ipynb           trainDataFeatures.tsv\r\n",
      "README.md                  trainDataFeatures2.tsv\r\n",
      "environment.yml\r\n"
     ]
    }
   ],
   "source": [
    "!ls"
   ]
  }
 ],
 "metadata": {
  "kernelspec": {
   "display_name": "Python 2",
   "language": "python",
   "name": "python2"
  },
  "language_info": {
   "codemirror_mode": {
    "name": "ipython",
    "version": 2
   },
   "file_extension": ".py",
   "mimetype": "text/x-python",
   "name": "python",
   "nbconvert_exporter": "python",
   "pygments_lexer": "ipython2",
   "version": "2.7.10"
  }
 },
 "nbformat": 4,
 "nbformat_minor": 0
}
