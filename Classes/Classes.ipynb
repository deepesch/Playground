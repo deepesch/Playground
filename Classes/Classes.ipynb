{
 "cells": [
  {
   "cell_type": "markdown",
   "metadata": {},
   "source": [
    "# Scripting"
   ]
  },
  {
   "cell_type": "code",
   "execution_count": 1,
   "metadata": {
    "collapsed": true
   },
   "outputs": [],
   "source": [
    "reset -fs"
   ]
  },
  {
   "cell_type": "code",
   "execution_count": 2,
   "metadata": {
    "collapsed": false
   },
   "outputs": [],
   "source": [
    "from __future__ import (absolute_import, \n",
    "                        division,\n",
    "                        print_function,\n",
    "                        unicode_literals)"
   ]
  },
  {
   "cell_type": "markdown",
   "metadata": {},
   "source": [
    "## Motivating Story"
   ]
  },
  {
   "cell_type": "markdown",
   "metadata": {
    "collapsed": false
   },
   "source": [
    "Python is a powerful glue language. In order to glue pieces together, we need to move outside of the notebook ...\n",
    "\n",
    "Addtionally, Python's standard library is mostly written in python. Look for yourself:"
   ]
  },
  {
   "cell_type": "code",
   "execution_count": null,
   "metadata": {
    "collapsed": false
   },
   "outputs": [
    {
     "name": "stdout",
     "output_type": "stream",
     "text": [
      "\u001b7\u001b[?47h\u001b[?1h\u001b=\u001b[1;24r\u001b[m\u001b[H\u001b[2J\u001b[24;1H\"~/anaconda/pkgs/python-2.7.10-0/lib/python2.7/string.py\" 656L, 21548C\u001b[>c\u001b[1;1H\"\"\"A collection of string operations (most are no longer used).\r\n",
      "\r\n",
      "Warning: most of the code you see here isn't normally used nowadays.\r\n",
      "Beginning with Python 1.6, many of these functions are implemented as\r\n",
      "methods on the standard string object. They used to be implemented by\r\n",
      "a built-in module called strop, but strop is now obsolete itself.\r\n",
      "\r\n",
      "Public module variables:\r\n",
      "\r\n",
      "whitespace -- a string containing all characters considered whitespace\r\n",
      "lowercase -- a string containing all characters considered lowercase letters\r\n",
      "uppercase -- a string containing all characters considered uppercase letters\r\n",
      "letters -- a string containing all characters considered letters\r\n",
      "digits -- a string containing all characters considered decimal digits\r\n",
      "hexdigits -- a string containing all characters considered hexadecimal digits\r\n",
      "octdigits -- a string containing all characters considered octal digits\r\n",
      "punctuation -- a string containing all characters considered punctuation\r\n",
      "printable -- a string containing all characters considered printable\r\n",
      "\r\n",
      "\"\"\"\r\n",
      "\r\n",
      "# Some strings for ctype-style character classification\r\n",
      "whitespace = ' \\t\\n\\r\\v\\f'\u001b[1;1H"
     ]
    }
   ],
   "source": [
    "! vim ~/anaconda/pkgs/python-2.7.10-0/lib/python2.7/string.py"
   ]
  },
  {
   "cell_type": "markdown",
   "metadata": {},
   "source": [
    "***\n",
    "With the tools you have now (and after practicing this lab), you should be able to write your reusable modules"
   ]
  },
  {
   "cell_type": "markdown",
   "metadata": {},
   "source": [
    "## Warmup "
   ]
  },
  {
   "cell_type": "code",
   "execution_count": null,
   "metadata": {
    "collapsed": false
   },
   "outputs": [],
   "source": [
    "# TODO: Finish the function to interate through the end of a list only\n",
    "\n",
    "# Given the list, write a for loop that skips the first 3 items and prints the remaining items in the list.\n",
    "\n",
    "def skip_three(items):\n",
    "    \"\"\"Skips the first 3 items and print the remaining items in the list.\n",
    "    >>> skip_three(['dross', 'dross', 'dross', 'gold', 'more gold'])\n",
    "    gold\n",
    "    more gold\"\"\"\n",
    "    for item in items[3:]:\n",
    "    return item\n",
    "skip_three(['dross', 'dross', 'dross', 'gold', 'more gold'])\n",
    "\n"
   ]
  },
  {
   "cell_type": "markdown",
   "metadata": {},
   "source": [
    "<details><summary>\n",
    "Click here for a solution.\n",
    "</summary>\n",
    "`\n",
    "for item in items[3:]:\n",
    "    print(item)\n",
    "`\n",
    "</details>"
   ]
  },
  {
   "cell_type": "code",
   "execution_count": 8,
   "metadata": {
    "collapsed": true
   },
   "outputs": [],
   "source": [
    "# TODO: Select only the even elements from the 2nd column\n",
    "     \n",
    "def evens_in_second_col(m):\n",
    "    \"\"\"Find even items in 2nd column.\n",
    "    >>> evens_in_second_col([[1, 2, 3], [4, 5, 6],[7, 8, 9]])\n",
    "    [2, 8]\n",
    "    \"\"\"\n",
    "    pass"
   ]
  },
  {
   "cell_type": "markdown",
   "metadata": {},
   "source": [
    "<details><summary>\n",
    "Click here for a solution.\n",
    "</summary>\n",
    "`\n",
    "def evens_in_second_col(m):\n",
    "    \"\"\"Find even items in 2nd column.\n",
    "    >>> evens_in_second_col([[1, 2, 3], [4, 5, 6],[7, 8, 9]])\n",
    "    [2, 8]\n",
    "    \"\"\"\n",
    "    return [row[1] for row in m if row[1] % 2 == 0]\n",
    "`\n",
    "</details>"
   ]
  },
  {
   "cell_type": "markdown",
   "metadata": {},
   "source": [
    "## By The End of This Session You Will:\n",
    "- Be able to write simple command line scripts\n",
    "- Be able to modify modules with new functionality"
   ]
  },
  {
   "cell_type": "markdown",
   "metadata": {},
   "source": [
    "## Why?\n",
    "\n",
    "It is an important part of being a data scientist and a facile programmer to be able to make and build programs that are composed of modules or files, that compile, and that function as executables on the command line. We will eventually progress to writing realistic, mid-to-larger scale programs. Most software that you encounter built by colleagues or other members of the community will be of this type.\n",
    "\n",
    "You should make it a priority in your education to familiarize yourself with these tools and methods. "
   ]
  },
  {
   "cell_type": "markdown",
   "metadata": {},
   "source": [
    "## Hello command line python"
   ]
  },
  {
   "cell_type": "code",
   "execution_count": 1,
   "metadata": {
    "collapsed": false
   },
   "outputs": [
    {
     "name": "stdout",
     "output_type": "stream",
     "text": [
      "hello :)\r\n",
      "hello :)\r\n",
      "hello :)\r\n",
      "\r\n"
     ]
    }
   ],
   "source": [
    "# Example of running a python at the command line\n",
    "! python hello.py"
   ]
  },
  {
   "cell_type": "code",
   "execution_count": 2,
   "metadata": {
    "collapsed": false
   },
   "outputs": [
    {
     "name": "stdout",
     "output_type": "stream",
     "text": [
      "/bin/sh: cowsay: command not found\r\n",
      "close failed in file object destructor:\r\n",
      "sys.excepthook is missing\r\n",
      "lost sys.stderr\r\n"
     ]
    }
   ],
   "source": [
    "# Since it turns a python script into command line utilities, you plug n' play with other command toys\n",
    "! python hello.py | cowsay # brew install cowsay"
   ]
  },
  {
   "cell_type": "code",
   "execution_count": 3,
   "metadata": {
    "collapsed": false
   },
   "outputs": [
    {
     "name": "stdout",
     "output_type": "stream",
     "text": [
      "print_message.py\r\n",
      "None\r\n"
     ]
    }
   ],
   "source": [
    "! python print_message.py hi"
   ]
  },
  {
   "cell_type": "code",
   "execution_count": 4,
   "metadata": {
    "collapsed": false
   },
   "outputs": [
    {
     "name": "stdout",
     "output_type": "stream",
     "text": [
      "print_messages.py\r\n",
      "hi\r\n",
      "there\r\n",
      "None\r\n"
     ]
    }
   ],
   "source": [
    "! python print_messages.py hi there"
   ]
  },
  {
   "cell_type": "markdown",
   "metadata": {
    "collapsed": false
   },
   "source": [
    "## Modifying Modules with New Functionality"
   ]
  },
  {
   "cell_type": "markdown",
   "metadata": {
    "collapsed": true
   },
   "source": [
    "Making your own module is key to advancing as a programmer. You are going to make a working module in this exercise:\n",
    "\n",
    "\n"
   ]
  },
  {
   "cell_type": "markdown",
   "metadata": {},
   "source": [
    "## Step 1: \n",
    "Open up a new file called report.py. In the precourse, we taught you to use [Sublime Text](http://www.sublimetext.com/3). Using sublime open up this file and save these lines in it:\n",
    "\n",
    "    def get_description(): # see the docstring below?\n",
    "        \"\"\"Return random weather, just like the pros\"\"\"\n",
    "        from random import choice\n",
    "        possibilities = ['rain', 'snow', 'sleet', 'fog', 'sun', 'who knows']\n",
    "        return choice(possibilities)\n",
    "Make sure to save the file so that you have a file named report.py\n",
    "\n"
   ]
  },
  {
   "cell_type": "markdown",
   "metadata": {},
   "source": [
    "## Step 2:\n",
    "Now from within a cell within an ipython notebook, type in the following line:"
   ]
  },
  {
   "cell_type": "code",
   "execution_count": 20,
   "metadata": {
    "collapsed": false
   },
   "outputs": [
    {
     "ename": "ImportError",
     "evalue": "No module named report",
     "output_type": "error",
     "traceback": [
      "\u001b[0;31m---------------------------------------------------------------------------\u001b[0m",
      "\u001b[0;31mImportError\u001b[0m                               Traceback (most recent call last)",
      "\u001b[0;32m<ipython-input-20-f13d0938cac6>\u001b[0m in \u001b[0;36m<module>\u001b[0;34m()\u001b[0m\n\u001b[0;32m----> 1\u001b[0;31m \u001b[0;32mimport\u001b[0m \u001b[0mreport\u001b[0m\u001b[0;34m\u001b[0m\u001b[0m\n\u001b[0m\u001b[1;32m      2\u001b[0m \u001b[0;34m\u001b[0m\u001b[0m\n\u001b[1;32m      3\u001b[0m \u001b[0mdescription\u001b[0m \u001b[0;34m=\u001b[0m \u001b[0mreport\u001b[0m\u001b[0;34m.\u001b[0m\u001b[0mget_description\u001b[0m\u001b[0;34m(\u001b[0m\u001b[0;34m)\u001b[0m\u001b[0;34m\u001b[0m\u001b[0m\n",
      "\u001b[0;31mImportError\u001b[0m: No module named report"
     ]
    }
   ],
   "source": [
    "import report\n",
    "\n",
    "description = report.get_description()"
   ]
  },
  {
   "cell_type": "markdown",
   "metadata": {},
   "source": [
    "## Step 3: \n",
    "Now open up a new file called `weatherman.py`. In the precourse, we taught you to use sublime text. Using sublime open up this file and save these lines in it:\n",
    "\n",
    "    #weatherman.py\n",
    "    \n",
    "    import report\n",
    " \n",
    "    description = report.get_description()\n",
    "    print(\"today's weather:\", description)\n",
    "    \n",
    "Make sure to save the file, as with report.py"
   ]
  },
  {
   "cell_type": "markdown",
   "metadata": {},
   "source": [
    "## Step 4:\n",
    "\n",
    "Now go to your same ipython notebook cell and type in:\n",
    "\n",
    "    import weatherman.py\n",
    "    \n",
    "notice that nothing happens. Why do you think this is?\n",
    "\n",
    "The problem is that you need to make weatherman an executable. This is done by adding the following lines to the file:\n",
    "\n",
    "    #weatherman.py\n",
    "\n",
    "    from __future__ import (absolute_import,\n",
    "                            division,\n",
    "                            print_function,\n",
    "                            unicode_literals)\n",
    "\n",
    "    import report\n",
    "    def weatherman():\n",
    "            description = report.get_description()\n",
    "            print(\"today's weather:\", description)\n",
    "\n",
    "    if __name__ == '__main__':\n",
    "            weatherman()\n",
    "        \n",
    "Again, make sure your file is saved."
   ]
  },
  {
   "cell_type": "markdown",
   "metadata": {},
   "source": [
    "## Step 5: \n",
    "Go to a terminal line. ( you learned this in the precourse). Change directories to wherever you have weatherman.py and report.py saved (make sure both these files are in the same directory!!!!) and type:"
   ]
  },
  {
   "cell_type": "code",
   "execution_count": 5,
   "metadata": {
    "collapsed": false
   },
   "outputs": [
    {
     "name": "stdout",
     "output_type": "stream",
     "text": [
      "python: can't open file 'weatherman.py': [Errno 2] No such file or directory\r\n"
     ]
    }
   ],
   "source": [
    "! python weatherman.py"
   ]
  },
  {
   "cell_type": "markdown",
   "metadata": {},
   "source": [
    "__What happened?__"
   ]
  },
  {
   "cell_type": "markdown",
   "metadata": {},
   "source": [
    "## Summary\n",
    "- Python makes it easy to create larger pieces of reusable code call modules.\n",
    "- The Standard Library is a collection of modules.\n",
    "- You can create your modules by writing text files.\n",
    "- Those modules can be use:\n",
    "    - On the command line with other command line utilities\n",
    "    - Within other Python code."
   ]
  },
  {
   "cell_type": "markdown",
   "metadata": {},
   "source": [
    "<br><br>"
   ]
  }
 ],
 "metadata": {
  "kernelspec": {
   "display_name": "Python 2",
   "language": "python",
   "name": "python2"
  },
  "language_info": {
   "codemirror_mode": {
    "name": "ipython",
    "version": 2
   },
   "file_extension": ".py",
   "mimetype": "text/x-python",
   "name": "python",
   "nbconvert_exporter": "python",
   "pygments_lexer": "ipython2",
   "version": "2.7.10"
  }
 },
 "nbformat": 4,
 "nbformat_minor": 0
}
