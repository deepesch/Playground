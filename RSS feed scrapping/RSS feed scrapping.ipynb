{
 "cells": [
  {
   "cell_type": "markdown",
   "metadata": {},
   "source": [
    "Simple RSS feed scraping\n",
    "----\n"
   ]
  },
  {
   "cell_type": "code",
   "execution_count": 3,
   "metadata": {
    "collapsed": true
   },
   "outputs": [],
   "source": [
    "import urllib2\n",
    "from urllib2 import urlopen\n",
    "import re\n",
    "import cookielib\n",
    "from cookielib import CookieJar\n",
    "import time"
   ]
  },
  {
   "cell_type": "code",
   "execution_count": 4,
   "metadata": {
    "collapsed": true
   },
   "outputs": [],
   "source": [
    "cj = CookieJar()\n",
    "opener = urllib2.build_opener(urllib2.HTTPCookieProcessor(cj)) #Opener to change header\n",
    "opener.addheaders = [('User-agent','Mozilla/5.0')] #change default header "
   ]
  },
  {
   "cell_type": "code",
   "execution_count": 12,
   "metadata": {
    "collapsed": false
   },
   "outputs": [
    {
     "name": "stdout",
     "output_type": "stream",
     "text": [
      "let's visit http://www.huffingtonpost.com/politics/\n",
      "let's visit http://feeds.huffingtonpost.com/c/35496/f/677086/s/4af34a58/sc/28/l/0L0Shuffingtonpost0N0C20A150C10A0C20A0Chere0Eare0Ethe0Emost0Eannoying0Equestions0Ethat0Epeople0Eask0Ebisexuals0In0I8382390A0Bhtml0Dutm0Ihp0Iref0Fpolitics0Gir0FPolitics/story01.htm\n",
      "let's visit http://feeds.huffingtonpost.com/c/35496/f/677086/s/4af2ec57/sc/11/l/0L0Shuffingtonpost0N0C20A150C10A0C250Ctony0Eblair0Eiraq0In0I83822960Bhtml0Dutm0Ihp0Iref0Fpolitics0Gir0FPolitics/story01.htm\n",
      "let's visit http://feeds.huffingtonpost.com/c/35496/f/677086/s/4af2a2b9/sc/7/l/0L0Shuffingtonpost0N0Carianna0Ehuffington0Csunday0Eroundup0I4130Ib0I8380A7840Bhtml0Dutm0Ihp0Iref0Fpolitics0Gir0FPolitics/story01.htm\n",
      "let's visit http://feeds.huffingtonpost.com/c/35496/f/677086/s/4af2a2ba/sc/7/l/0L0Shuffingtonpost0N0C20A150C10A0C240Cbernie0Esanders0Eiowa0Espeech0In0I83820A460Bhtml0Dutm0Ihp0Iref0Fpolitics0Gir0FPolitics/story01.htm\n",
      "let's visit http://feeds.huffingtonpost.com/c/35496/f/677086/s/4af26a97/sc/7/l/0L0Shuffingtonpost0N0C20A150C10A0C240Chillary0Eclinton0Ekaty0Eperry0Eiowa0Erally0In0I83819560Bhtml0Dutm0Ihp0Iref0Fpolitics0Gir0FPolitics/story01.htm\n",
      "let's visit http://feeds.huffingtonpost.com/c/35496/f/677086/s/4af2720c/sc/7/l/0L0Shuffingtonpost0N0C20A150C10A0C240Crise0Eup0Eoctober0Erally0Enyc0In0I83814140Bhtml0Dutm0Ihp0Iref0Fpolitics0Gir0FPolitics/story01.htm\n",
      "let's visit http://feeds.huffingtonpost.com/c/35496/f/677086/s/4af246d1/sc/28/l/0L0Shuffingtonpost0N0C20A150C10A0C240Cnbc0Evideo0Eisis0Eraid0In0I8381410A0Bhtml0Dutm0Ihp0Iref0Fpolitics0Gir0FPolitics/story01.htm\n",
      "let's visit http://feeds.huffingtonpost.com/c/35496/f/677086/s/4af24b9a/sc/38/l/0L0Shuffingtonpost0N0C20A150C10A0C240Cwoman0Esays0Eshe0Ewas0Efired0Efor0Egetting0Ebeat0Eup0Eby0Eher0Eboyfriend0Eshes0Enot0Ealone0In0I83812940Bhtml0Dutm0Ihp0Iref0Fpolitics0Gir0FPolitics/story01.htm\n",
      "let's visit http://feeds.huffingtonpost.com/c/35496/f/677086/s/4af1f7d3/sc/7/l/0L0Shuffingtonpost0N0Cdalia0Ef0Efahmy0Ephd0Csilence0Eon0Erising0Eantimus0Ib0I83756420Bhtml0Dutm0Ihp0Iref0Fpolitics0Gir0FPolitics/story01.htm\n",
      "let's visit http://feeds.huffingtonpost.com/c/35496/f/677086/s/4af1f222/sc/7/l/0L0Shuffingtonpost0N0Clester0Echarlie0Can0Eeasy0Eway0Efor0Eyou0Eto0Ehe0Ib0I837940A60Bhtml0Dutm0Ihp0Iref0Fpolitics0Gir0FPolitics/story01.htm\n",
      "let's visit http://feeds.huffingtonpost.com/c/35496/f/677086/s/4af1edfa/sc/38/l/0L0Shuffingtonpost0N0C20A150C10A0C240Cjonathan0Echait0Erips0Enaomi0Ekleins0Eclimate0Echange0Ebook0In0I8379970A0Bhtml0Dutm0Ihp0Iref0Fpolitics0Gir0FPolitics/story01.htm\n",
      "let's visit http://feeds.huffingtonpost.com/c/35496/f/677086/s/4af1d635/sc/7/l/0L0Shuffingtonpost0N0C20A150C10A0C240Cbaltimore0Epolice0Eproblem0In0I83799160Bhtml0Dutm0Ihp0Iref0Fpolitics0Gir0FPolitics/story01.htm\n",
      "let's visit http://feeds.huffingtonpost.com/c/35496/f/677086/s/4af1c52a/sc/7/l/0L0Shuffingtonpost0N0Cdoug0Ebandow0Cus0Eshould0Echarge0Eto0Eprote0Ib0I83793720Bhtml0Dutm0Ihp0Iref0Fpolitics0Gir0FPolitics/story01.htm\n",
      "let's visit http://feeds.huffingtonpost.com/c/35496/f/677086/s/4af1befb/sc/7/l/0L0Shuffingtonpost0N0Cdonna0Ea0Epatterson0Ccasualties0Eof0Ethe0Ewar0Eon0E0Ib0I83740A30A0Bhtml0Dutm0Ihp0Iref0Fpolitics0Gir0FPolitics/story01.htm\n",
      "let's visit http://feeds.huffingtonpost.com/c/35496/f/677086/s/4af1befd/sc/28/l/0L0Shuffingtonpost0N0C20A150C10A0C240Cjeb0Ebush0Ecampaign0Estruggling0In0I8378750A0Bhtml0Dutm0Ihp0Iref0Fpolitics0Gir0FPolitics/story01.htm\n",
      "let's visit http://feeds.huffingtonpost.com/c/35496/f/677086/s/4af198b3/sc/33/l/0L0Shuffingtonpost0N0C20A150C10A0C240Cole0Emiss0Efrat0Estatue0In0I83782880Bhtml0Dutm0Ihp0Iref0Fpolitics0Gir0FPolitics/story01.htm\n",
      "let's visit http://feeds.huffingtonpost.com/c/35496/f/677086/s/4af198b4/sc/38/l/0L0Shuffingtonpost0N0C20A150C10A0C240C720Ehour0Esuspension0Etrooper0Ekilled0Ewoman0In0I83782860Bhtml0Dutm0Ihp0Iref0Fpolitics0Gir0FPolitics/story01.htm\n",
      "let's visit http://feeds.huffingtonpost.com/c/35496/f/677086/s/4af198b5/sc/27/l/0L0Shuffingtonpost0N0C20A150C10A0C240C30Edead0E220Einjured0Eafter0Ecar0Eplows0Einto0Eosu0Ehomecoming0Ecrowd0In0I83782640Bhtml0Dutm0Ihp0Iref0Fpolitics0Gir0FPolitics/story01.htm\n",
      "let's visit http://feeds.huffingtonpost.com/c/35496/f/677086/s/4af18bbf/sc/7/l/0L0Shuffingtonpost0N0Calice0Eoleary0Erandall0Cbrookings0Einstitute0Esharp0Ib0I83771520Bhtml0Dutm0Ihp0Iref0Fpolitics0Gir0FPolitics/story01.htm\n",
      "let's visit http://feeds.huffingtonpost.com/c/35496/f/677086/s/4af170e5/sc/28/l/0L0Shuffingtonpost0N0C20A150C10A0C240Cobama0Estandardized0Etests0In0I83775840Bhtml0Dutm0Ihp0Iref0Fpolitics0Gir0FPolitics/story01.htm\n"
     ]
    }
   ],
   "source": [
    "def main():\n",
    "    try:\n",
    "        page = 'http://www.huffingtonpost.com/feeds/verticals/politics/index.xml'\n",
    "        sourcecode = opener.open(page).read()\n",
    "        #print sourcecode\n",
    "        \n",
    "        try:\n",
    "            titles = re.findall(r'<title>(.*?)</title>',sourcecode)\n",
    "            links = re.findall(r'<link>(.*?)</link>',sourcecode)\n",
    "            \n",
    "            \n",
    "            for link in links:\n",
    "                if '.rdf' in link:\n",
    "                    pass\n",
    "                else:\n",
    "                    print 'let\\'s visit',link\n",
    "                    linkSource = opener.open(link).read()\n",
    "                    \n",
    "                    content =  re.findall(r'<p>((.|\\n)*)</p>___<p>',linkSource)\n",
    "                    \n",
    "                    LinesOfInterest = re.findall(r'<p>.(.*?)</p>',str(content))\n",
    "                    \n",
    "                    for eachline in LinesOfInterest:\n",
    "                        print eachline\n",
    "                 \n",
    "        \n",
    "                \n",
    "        except Exception, e:\n",
    "            print str(e)\n",
    "    \n",
    "    except Exception, e:\n",
    "        print str(e)\n",
    "\n",
    "        \n",
    "main()"
   ]
  },
  {
   "cell_type": "code",
   "execution_count": null,
   "metadata": {
    "collapsed": true
   },
   "outputs": [],
   "source": []
  }
 ],
 "metadata": {
  "kernelspec": {
   "display_name": "Python 2",
   "language": "python",
   "name": "python2"
  },
  "language_info": {
   "codemirror_mode": {
    "name": "ipython",
    "version": 2
   },
   "file_extension": ".py",
   "mimetype": "text/x-python",
   "name": "python",
   "nbconvert_exporter": "python",
   "pygments_lexer": "ipython2",
   "version": "2.7.10"
  }
 },
 "nbformat": 4,
 "nbformat_minor": 0
}
