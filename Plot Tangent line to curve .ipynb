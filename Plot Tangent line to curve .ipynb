{
 "cells": [
  {
   "cell_type": "code",
   "execution_count": 9,
   "metadata": {
    "collapsed": false
   },
   "outputs": [],
   "source": [
    "import numpy as np\n",
    "import pylab as plt\n",
    "from numpy import sin,linspace,power\n",
    "from pylab import plot,show\n",
    "\n",
    "def f(x): # sample function\n",
    " return x*np.sin(x**2)*np.cos(x**3)+x*np.sin(x)*np.tan(x)\n",
    "\n",
    "# evaluation of the function\n",
    "x = linspace(-2,4,150)\n",
    "y = f(x)\n",
    "\n",
    "a = 1.4\n",
    "h = 0.1\n",
    "fprime = (f(a+h)-f(a))/h # derivative\n",
    "tan = f(a)+fprime*(x-a)  # tangent\n",
    "\n",
    "# plot of the function and the tangent\n",
    "plot(x,y,'b',a,f(a),'om',x,tan,'--r')\n",
    "plt.show()"
   ]
  },
  {
   "cell_type": "code",
   "execution_count": null,
   "metadata": {
    "collapsed": true
   },
   "outputs": [],
   "source": []
  }
 ],
 "metadata": {
  "kernelspec": {
   "display_name": "Python 2",
   "language": "python",
   "name": "python2"
  },
  "language_info": {
   "codemirror_mode": {
    "name": "ipython",
    "version": 2
   },
   "file_extension": ".py",
   "mimetype": "text/x-python",
   "name": "python",
   "nbconvert_exporter": "python",
   "pygments_lexer": "ipython2",
   "version": "2.7.10"
  }
 },
 "nbformat": 4,
 "nbformat_minor": 0
}
