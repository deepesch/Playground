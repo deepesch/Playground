{
 "cells": [
  {
   "cell_type": "markdown",
   "metadata": {},
   "source": [
    "Simple RSS feed scraping\n",
    "----\n"
   ]
  },
  {
   "cell_type": "code",
   "execution_count": 1,
   "metadata": {
    "collapsed": true
   },
   "outputs": [],
   "source": [
    "import urllib2\n",
    "from urllib2 import urlopen\n",
    "import re\n",
    "import cookielib\n",
    "from cookielib import CookieJar\n",
    "import time"
   ]
  },
  {
   "cell_type": "code",
   "execution_count": 4,
   "metadata": {
    "collapsed": true
   },
   "outputs": [],
   "source": [
    "cj = CookieJar()\n",
    "opener = urllib2.build_opener(urllib2.HTTPCookieProcessor(cj)) #Opener to change header\n",
    "opener.addheaders = [('User-agent','Mozilla/5.0')] #change default header "
   ]
  },
  {
   "cell_type": "code",
   "execution_count": 2,
   "metadata": {
    "collapsed": false
   },
   "outputs": [
    {
     "name": "stdout",
     "output_type": "stream",
     "text": [
      "global name 'opener' is not defined\n"
     ]
    }
   ],
   "source": [
    "def main():\n",
    "    try:\n",
    "        page = 'http://www.huffingtonpost.com/feeds/verticals/politics/index.xml'\n",
    "        sourcecode = opener.open(page).read()\n",
    "        #print sourcecode\n",
    "        \n",
    "        try:\n",
    "            titles = re.findall(r'<title>(.*?)</title>',sourcecode)\n",
    "            links = re.findall(r'<link>(.*?)</link>',sourcecode)\n",
    "            #for title in titles:\n",
    "            #    print title\n",
    "            \n",
    "            for link in links:\n",
    "                if '.rdf' in link:\n",
    "                    pass\n",
    "                else:\n",
    "                    print 'let\\'s visit',link\n",
    "                    linkSource = opener.open(link).read()\n",
    "                    print linkSource\n",
    "                 \n",
    "                \n",
    "        except Exception, e:\n",
    "            print str(e)\n",
    "    \n",
    "    except Exception, e:\n",
    "        print str(e)\n",
    "\n",
    "        \n",
    "main()"
   ]
  },
  {
   "cell_type": "code",
   "execution_count": null,
   "metadata": {
    "collapsed": true
   },
   "outputs": [],
   "source": []
  }
 ],
 "metadata": {
  "kernelspec": {
   "display_name": "Python 2",
   "language": "python",
   "name": "python2"
  },
  "language_info": {
   "codemirror_mode": {
    "name": "ipython",
    "version": 2
   },
   "file_extension": ".py",
   "mimetype": "text/x-python",
   "name": "python",
   "nbconvert_exporter": "python",
   "pygments_lexer": "ipython2",
   "version": "2.7.10"
  }
 },
 "nbformat": 4,
 "nbformat_minor": 0
}
