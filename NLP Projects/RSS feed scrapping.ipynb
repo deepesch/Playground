{
 "cells": [
  {
   "cell_type": "markdown",
   "metadata": {},
   "source": [
    "Simple RSS feed scraping\n",
    "----\n"
   ]
  },
  {
   "cell_type": "code",
   "execution_count": 1,
   "metadata": {
    "collapsed": true
   },
   "outputs": [],
   "source": [
    "import urllib2\n",
    "from urllib2 import urlopen\n",
    "import re\n",
    "import cookielib\n",
    "from cookielib import CookieJar\n",
    "import time"
   ]
  },
  {
   "cell_type": "code",
   "execution_count": 4,
   "metadata": {
    "collapsed": true
   },
   "outputs": [],
   "source": [
    "cj = CookieJar()\n",
    "opener = urllib2.build_opener(urllib2.HTTPCookieProcessor(cj)) #Opener to change header\n",
    "opener.addheaders = [('User-agent','Mozilla/5.0')] #change default header "
   ]
  },
  {
   "cell_type": "code",
   "execution_count": 14,
   "metadata": {
    "collapsed": false
   },
   "outputs": [
    {
     "name": "stdout",
     "output_type": "stream",
     "text": [
      "Politics - The Huffington Post\n",
      "Competitor Offers $1 Drug After Turing's Controversial $750 Price Hike\n",
      "Sister Of Benghazi Victim: Hillary Clinton's Marathon Hearing Failed To Provide 'Real Answers'\n",
      "Trey Gowdy Says His 11-Hour Benghazi Hearing Didn't Reveal Anything New\n",
      "How Not To Run A Congressional Hearing On Benghazi: Republicans v Clinton\n",
      "The Massive Loophole That's Warming The Planet\n",
      "Even Conservatives Realize Hillary Clinton's Benghazi Committee Hearing Was Ridiculous\n",
      "Arizona Tried To Illegally Import Execution Drug, Documents Show\n",
      "Federal Judge Rips DOJ For Letting Corporate Lawbreakers Off Easy\n",
      "Mike Huckabee's Benghazi Tattoo Joke Goes Hilariously Wrong\n",
      "Don't Blame The New York Judge Who Referred Alleged Cop Killer To A Drug Program\n",
      "Double trouble: Faced with massive local tax hike, Chicagoans frustrated with talk of increase at state level\n",
      "Here Are Hillary Clinton's Many Facial Expressions During Her Benghazi Committee Testimony\n",
      "Family Detention Centers Seek Child Care Licenses As Deadline Looms\n",
      "My Entire Family in Syria Now Consists of Refugees\n",
      "Hillary Clinton Gets That Dirt Off Her Shoulder\n",
      "Meet the New Holocaust Revisionists\n",
      "Paul Ryan Officially Enters Race For Speaker Of The House\n",
      "Why Is the So-Called Congressional Freedom Caucus Frozen Against a Living Minimum Wage?\n",
      "Vietnam: Story Without an End\n",
      "A War Up in Spanish Harlem\n",
      "http://www.huffingtonpost.com/politics/\n",
      "http://feeds.huffingtonpost.com/c/35496/f/677086/s/4ae74310/sc/21/l/0L0Shuffingtonpost0N0C20A150C10A0C220Cdaraprim0E10Edollar0Eturing0In0I83647740Bhtml0Dutm0Ihp0Iref0Fpolitics0Gir0FPolitics/story01.htm\n",
      "http://feeds.huffingtonpost.com/c/35496/f/677086/s/4ae74317/sc/7/l/0L0Shuffingtonpost0N0C20A150C10A0C220Chillary0Eclinton0Ebenghazi0Evictims0In0I83647660Bhtml0Dutm0Ihp0Iref0Fpolitics0Gir0FPolitics/story01.htm\n",
      "http://feeds.huffingtonpost.com/c/35496/f/677086/s/4ae7431d/sc/7/l/0L0Shuffingtonpost0N0C20A150C10A0C220Ctrey0Egowdy0Ehillary0Eclinton0Ebenghazi0In0I8364710A0Bhtml0Dutm0Ihp0Iref0Fpolitics0Gir0FPolitics/story01.htm\n",
      "http://feeds.huffingtonpost.com/c/35496/f/677086/s/4ae74322/sc/7/l/0L0Shuffingtonpost0N0Crichard0Ebrodsky0Chow0Enot0Eto0Erun0Ea0Econgress0Ib0I83643920Bhtml0Dutm0Ihp0Iref0Fpolitics0Gir0FPolitics/story01.htm\n",
      "http://feeds.huffingtonpost.com/c/35496/f/677086/s/4ae74325/sc/11/l/0L0Shuffingtonpost0N0C20A150C10A0C220Cthe0Emassive0Eloophole0Ethats0Ewarming0Ethe0Eplanet0In0I8364390A0Bhtml0Dutm0Ihp0Iref0Fpolitics0Gir0FPolitics/story01.htm\n",
      "http://feeds.huffingtonpost.com/c/35496/f/677086/s/4ae6f761/sc/7/l/0L0Shuffingtonpost0N0C20A150C10A0C220Chillary0Eclinton0Ebenghazi0Econservative0Ereactions0In0I836430A40Bhtml0Dutm0Ihp0Iref0Fpolitics0Gir0FPolitics/story01.htm\n",
      "http://feeds.huffingtonpost.com/c/35496/f/677086/s/4ae6f762/sc/11/l/0L0Shuffingtonpost0N0C20A150C10A0C220Carizona0Etried0Eto0Eillegally0Eimport0Eexecution0Edrug0In0I836430A20Bhtml0Dutm0Ihp0Iref0Fpolitics0Gir0FPolitics/story01.htm\n",
      "http://feeds.huffingtonpost.com/c/35496/f/677086/s/4ae72a54/sc/7/l/0L0Shuffingtonpost0N0C20A150C10A0C220Cemmett0Esullivan0Edeferred0Eprosecution0In0I836420A0A0Bhtml0Dutm0Ihp0Iref0Fpolitics0Gir0FPolitics/story01.htm\n",
      "http://feeds.huffingtonpost.com/c/35496/f/677086/s/4ae72a55/sc/7/l/0L0Shuffingtonpost0N0C20A150C10A0C220Cmike0Ehuckabee0Etattoo0Ebenghazi0In0I83640A740Bhtml0Dutm0Ihp0Iref0Fpolitics0Gir0FPolitics/story01.htm\n",
      "http://feeds.huffingtonpost.com/c/35496/f/677086/s/4ae725fa/sc/7/l/0L0Shuffingtonpost0N0C20A150C10A0C220Cedward0Emclaughlin0Ebill0Ede0Eblasio0Ebill0Ebratton0In0I83640A160Bhtml0Dutm0Ihp0Iref0Fpolitics0Gir0FPolitics/story01.htm\n",
      "http://feeds.huffingtonpost.com/c/35496/f/677086/s/4ae685c8/sc/7/l/0L0Shuffingtonpost0N0Chilary0Egowins0Cdouble0Etrouble0Efaced0Ewith0Ib0I83639860Bhtml0Dutm0Ihp0Iref0Fpolitics0Gir0FPolitics/story01.htm\n",
      "http://feeds.huffingtonpost.com/c/35496/f/677086/s/4ae6360b/sc/7/l/0L0Shuffingtonpost0N0C20A150C10A0C220Chillary0Eclinton0Efacial0Eexpressions0Ebenghazi0In0I83635480Bhtml0Dutm0Ihp0Iref0Fpolitics0Gir0FPolitics/story01.htm\n",
      "http://feeds.huffingtonpost.com/c/35496/f/677086/s/4ae6360d/sc/7/l/0L0Shuffingtonpost0N0C20A150C10A0C220Cimmigrant0Efamily0Edetention0Etexas0In0I83635280Bhtml0Dutm0Ihp0Iref0Fpolitics0Gir0FPolitics/story01.htm\n",
      "http://feeds.huffingtonpost.com/c/35496/f/677086/s/4ae651ac/sc/38/l/0L0Shuffingtonpost0N0Cbasil0Echaballout0Cmy0Eentire0Efamily0Ein0Esyria0Enow0Econsists0Eof0Erefugees0Ib0I83618640Bhtml0Dutm0Ihp0Iref0Fpolitics0Gir0FPolitics/story01.htm\n",
      "http://feeds.huffingtonpost.com/c/35496/f/677086/s/4ae651ae/sc/7/l/0L0Shuffingtonpost0N0C20A150C10A0C220Chillary0Eclinton0Edirt0Eshoulder0Egif0In0I83634360Bhtml0Dutm0Ihp0Iref0Fpolitics0Gir0FPolitics/story01.htm\n",
      "http://feeds.huffingtonpost.com/c/35496/f/677086/s/4ae651af/sc/11/l/0L0Shuffingtonpost0N0Crabbi0Ejack0Emoline0Cmeet0Ethe0Enew0Eholocaust0Erevisionists0Ib0I8358890A0Bhtml0Dutm0Ihp0Iref0Fpolitics0Gir0FPolitics/story01.htm\n",
      "http://feeds.huffingtonpost.com/c/35496/f/677086/s/4ae5fb5f/sc/7/l/0L0Shuffingtonpost0N0C20A150C10A0C220Cpaul0Eryan0Espeaker0In0I83633860Bhtml0Dutm0Ihp0Iref0Fpolitics0Gir0FPolitics/story01.htm\n",
      "http://feeds.huffingtonpost.com/c/35496/f/677086/s/4ae5fb62/sc/7/l/0L0Shuffingtonpost0N0Cralph0Enader0Cwhy0Eis0Ethe0Eso0Ecalled0Econg0Ib0I83633840Bhtml0Dutm0Ihp0Iref0Fpolitics0Gir0FPolitics/story01.htm\n",
      "http://feeds.huffingtonpost.com/c/35496/f/677086/s/4ae5fb74/sc/7/l/0L0Shuffingtonpost0N0Cjonah0Eraskin0Cvietnam0Estory0Ewithout0Ean0E0Ib0I83592580Bhtml0Dutm0Ihp0Iref0Fpolitics0Gir0FPolitics/story01.htm\n",
      "http://feeds.huffingtonpost.com/c/35496/f/677086/s/4ae685ce/sc/3/l/0L0Shuffingtonpost0N0Cjosmar0Etrujillo0Ca0Ewar0Eup0Ein0Espanish0Eharle0Ib0I83633340Bhtml0Dutm0Ihp0Iref0Fpolitics0Gir0FPolitics/story01.htm\n"
     ]
    }
   ],
   "source": [
    "def main():\n",
    "    try:\n",
    "        page = 'http://www.huffingtonpost.com/feeds/verticals/politics/index.xml'\n",
    "        sourcecode = opener.open(page).read()\n",
    "        #print sourcecode\n",
    "        \n",
    "        try:\n",
    "            titles = re.findall(r'<title>(.*?)</title>',sourcecode)\n",
    "            links = re.findall(r'<link>(.*?)</link>',sourcecode)\n",
    "            for title in titles:\n",
    "                print title\n",
    "            for link in links:\n",
    "                print link\n",
    "        except Exception, e:\n",
    "            print str(e)\n",
    "    \n",
    "    except Exception, e:\n",
    "        print str(e)\n",
    "\n",
    "        \n",
    "main()"
   ]
  },
  {
   "cell_type": "code",
   "execution_count": null,
   "metadata": {
    "collapsed": true
   },
   "outputs": [],
   "source": []
  }
 ],
 "metadata": {
  "kernelspec": {
   "display_name": "Python 2",
   "language": "python",
   "name": "python2"
  },
  "language_info": {
   "codemirror_mode": {
    "name": "ipython",
    "version": 2
   },
   "file_extension": ".py",
   "mimetype": "text/x-python",
   "name": "python",
   "nbconvert_exporter": "python",
   "pygments_lexer": "ipython2",
   "version": "2.7.10"
  }
 },
 "nbformat": 4,
 "nbformat_minor": 0
}
